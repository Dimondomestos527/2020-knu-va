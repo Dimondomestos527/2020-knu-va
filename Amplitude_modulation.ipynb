{
 "cells": [
  {
   "cell_type": "code",
   "execution_count": 5,
   "metadata": {},
   "outputs": [
    {
     "ename": "NameError",
     "evalue": "name 'path' is not defined",
     "output_type": "error",
     "traceback": [
      "\u001b[1;31m---------------------------------------------------------------------------\u001b[0m",
      "\u001b[1;31mNameError\u001b[0m                                 Traceback (most recent call last)",
      "\u001b[1;32m<ipython-input-5-38d652d609a5>\u001b[0m in \u001b[0;36m<module>\u001b[1;34m\u001b[0m\n\u001b[0;32m     46\u001b[0m     \u001b[1;32mfor\u001b[0m \u001b[0mj\u001b[0m \u001b[1;32min\u001b[0m \u001b[0mrange\u001b[0m\u001b[1;33m(\u001b[0m\u001b[1;36m20000\u001b[0m\u001b[1;33m,\u001b[0m\u001b[1;36m22001\u001b[0m\u001b[1;33m,\u001b[0m\u001b[1;36m500\u001b[0m\u001b[1;33m)\u001b[0m\u001b[1;33m:\u001b[0m\u001b[1;33m\u001b[0m\u001b[1;33m\u001b[0m\u001b[0m\n\u001b[0;32m     47\u001b[0m \u001b[1;31m#path=\"Тут должен быть путь к аудио, но я в последний момент вспомнил про них, ноя знаю, что они должны быть тут\"\u001b[0m\u001b[1;33m\u001b[0m\u001b[1;33m\u001b[0m\u001b[1;33m\u001b[0m\u001b[0m\n\u001b[1;32m---> 48\u001b[1;33m         \u001b[0mum\u001b[0m\u001b[1;33m,\u001b[0m\u001b[0msr\u001b[0m\u001b[1;33m=\u001b[0m\u001b[0mlibrosa\u001b[0m\u001b[1;33m.\u001b[0m\u001b[0mload\u001b[0m\u001b[1;33m(\u001b[0m\u001b[0mpath\u001b[0m\u001b[1;33m,\u001b[0m\u001b[0msr\u001b[0m\u001b[1;33m=\u001b[0m\u001b[1;36m16000\u001b[0m\u001b[1;33m,\u001b[0m\u001b[0mdtype\u001b[0m\u001b[1;33m=\u001b[0m\u001b[1;34m\"int16\"\u001b[0m\u001b[1;33m)\u001b[0m\u001b[1;33m\u001b[0m\u001b[1;33m\u001b[0m\u001b[0m\n\u001b[0m\u001b[0;32m     49\u001b[0m         \u001b[0muam\u001b[0m\u001b[1;33m,\u001b[0m\u001b[0mSAMPLE_RATE\u001b[0m\u001b[1;33m=\u001b[0m\u001b[0mAM\u001b[0m\u001b[1;33m(\u001b[0m\u001b[0mpath\u001b[0m\u001b[1;33m,\u001b[0m\u001b[1;36m20000\u001b[0m\u001b[1;33m)\u001b[0m\u001b[1;33m\u001b[0m\u001b[1;33m\u001b[0m\u001b[0m\n\u001b[0;32m     50\u001b[0m         \u001b[0muam\u001b[0m\u001b[1;33m=\u001b[0m\u001b[0mbandpass_filter\u001b[0m\u001b[1;33m(\u001b[0m\u001b[0muam\u001b[0m\u001b[1;33m,\u001b[0m\u001b[1;36m20\u001b[0m\u001b[1;33m,\u001b[0m\u001b[1;36m20000\u001b[0m\u001b[1;33m,\u001b[0m\u001b[0mSAMPLE_RATE\u001b[0m\u001b[1;33m)\u001b[0m\u001b[1;33m\u001b[0m\u001b[1;33m\u001b[0m\u001b[0m\n",
      "\u001b[1;31mNameError\u001b[0m: name 'path' is not defined"
     ]
    }
   ],
   "source": [
    "import scipy\n",
    "import librosa\n",
    "import librosa.core\n",
    "import numpy as np\n",
    "import soundfile as sf\n",
    "def car_gen(duration,frequency=20000):\n",
    "    SAMPLE_RATE=196000\n",
    "    tone=librosa.tone(frequency,sr=SAMPLE_RATE,duration=duration)\n",
    "    librosa.output.write_wav(\"carrier.wav\",tone,SAMPLE_RATE)\n",
    "    return ((tone, SAMPLE_RATE))\n",
    "def AM(path,frequency=20000):\n",
    "    sr=16000\n",
    "    comand,sr=librosa.load(path,sr=sr)\n",
    "    duration=librosa.get_duration(comand,sr)\n",
    "    carrier,SAMPLE_RATE=car_gen(duration,frequency=frequency)\n",
    "    comand_196kHz=librosa.core.resample(comand,sr,SAMPLE_RATE)\n",
    "    comand_196kHz*=2**15-1\n",
    "    carrier*=2**15-1\n",
    "    comand_196kHz=comand_196kHz.astype(np.int16)\n",
    "    carrier=carrier.astype(np.int16)\n",
    "    a=max(comand_196kHz)#h\n",
    "    b=min(comand_196kHz)#l\n",
    "    umMax=max(h,-l)\n",
    "    m=0.98\n",
    "    uam=carrier*(1+m*(comand_196kHz/umMax))\n",
    "    uam=exp_decay(uam, SAMPLE_RATE)\n",
    "    s=scipy.signal.butter(5,[20000/(SAMPLE_RATE*0.5),],\"highpass\",False,output=\"!!!\")\n",
    "    uam = scipy.signal.sosfilt(sos,uam)\n",
    "    uam=uam.astype(np.int16)\n",
    "    return (uam,SAMPLE_RATE)\n",
    "\n",
    "def bandpass_filt(data, lowcut, highcut, fs, order=5):\n",
    "    s=scipy.signal.butter(order,[lowcut/(fs*0.5),highcut/(fs*0.5)],\"bandpass\",False,output=\"!!!\")\n",
    "    y= scipy.signal.sosfilt(sos,data)\n",
    "    return y\n",
    "def exp_decay(comand,sr):\n",
    "    t=int(sr*0.25)\n",
    "    for i in range(t):\n",
    "        comand[t-i]=comand[t-i]*(1-0.0001)**i\n",
    "        comand[comand.shape[0]-t+i]=comand[comand.shape[0]-t+i]*(1-0.0001)**i\n",
    "    return comand\n",
    "\n",
    "\n",
    "\n",
    "#path=\"Тут должен быть путь к аудио и цикл для модуляции сразу всех файлов, но не успел\"\n",
    "um,sr=librosa.load(path,sr=16000,dtype=\"int16\")\n",
    "uam,SAMPLE_RATE=AM(path,20000)\n",
    "uam=bandpass_filter(uam,20,20000,SAMPLE_RATE)\n",
    "sf.write(\"название_файла.wav\",uam,SAMPLE_RATE, subtype='PCM_16')\n"
   ]
  },
  {
   "cell_type": "code",
   "execution_count": null,
   "metadata": {},
   "outputs": [],
   "source": []
  },
  {
   "cell_type": "code",
   "execution_count": 5,
   "metadata": {},
   "outputs": [
    {
     "name": "stdout",
     "output_type": "stream",
     "text": [
      "Collecting librosa\n",
      "  Downloading https://files.pythonhosted.org/packages/77/b5/1817862d64a7c231afd15419d8418ae1f000742cac275e85c74b219cbccb/librosa-0.7.2.tar.gz (1.6MB)\n",
      "Collecting audioread>=2.0.0 (from librosa)\n",
      "  Downloading https://files.pythonhosted.org/packages/2e/0b/940ea7861e0e9049f09dcfd72a90c9ae55f697c17c299a323f0148f913d2/audioread-2.1.8.tar.gz\n",
      "Requirement already satisfied: numpy>=1.15.0 in c:\\users\\all\\anaconda3\\lib\\site-packages (from librosa) (1.16.5)\n",
      "Requirement already satisfied: scipy>=1.0.0 in c:\\users\\all\\anaconda3\\lib\\site-packages (from librosa) (1.3.1)\n",
      "Requirement already satisfied: scikit-learn!=0.19.0,>=0.14.0 in c:\\users\\all\\anaconda3\\lib\\site-packages (from librosa) (0.21.3)\n",
      "Requirement already satisfied: joblib>=0.12 in c:\\users\\all\\anaconda3\\lib\\site-packages (from librosa) (0.13.2)\n",
      "Requirement already satisfied: decorator>=3.0.0 in c:\\users\\all\\anaconda3\\lib\\site-packages (from librosa) (4.4.0)\n",
      "Requirement already satisfied: six>=1.3 in c:\\users\\all\\anaconda3\\lib\\site-packages (from librosa) (1.12.0)\n",
      "Collecting resampy>=0.2.2 (from librosa)\n",
      "  Downloading https://files.pythonhosted.org/packages/79/75/e22272b9c2185fc8f3af6ce37229708b45e8b855fd4bc38b4d6b040fff65/resampy-0.2.2.tar.gz (323kB)\n",
      "Requirement already satisfied: numba>=0.43.0 in c:\\users\\all\\anaconda3\\lib\\site-packages (from librosa) (0.45.1)\n",
      "Collecting soundfile>=0.9.0 (from librosa)\n",
      "  Downloading https://files.pythonhosted.org/packages/b8/de/24e4035f06540ebb4e9993238ede787063875b003e79c537511d32a74d29/SoundFile-0.10.3.post1-py2.py3.cp26.cp27.cp32.cp33.cp34.cp35.cp36.pp27.pp32.pp33-none-win_amd64.whl (689kB)\n",
      "Requirement already satisfied: llvmlite>=0.29.0dev0 in c:\\users\\all\\anaconda3\\lib\\site-packages (from numba>=0.43.0->librosa) (0.29.0)\n",
      "Requirement already satisfied: cffi>=1.0 in c:\\users\\all\\anaconda3\\lib\\site-packages (from soundfile>=0.9.0->librosa) (1.12.3)\n",
      "Requirement already satisfied: pycparser in c:\\users\\all\\anaconda3\\lib\\site-packages (from cffi>=1.0->soundfile>=0.9.0->librosa) (2.19)\n",
      "Building wheels for collected packages: librosa, audioread, resampy\n",
      "  Building wheel for librosa (setup.py): started\n",
      "  Building wheel for librosa (setup.py): finished with status 'done'\n",
      "  Created wheel for librosa: filename=librosa-0.7.2-cp37-none-any.whl size=1612889 sha256=e4b629828ee9143a7641314c64e09aa454aafbd353a54998db95bbcea5f6670b\n",
      "  Stored in directory: C:\\Users\\All\\AppData\\Local\\pip\\Cache\\wheels\\4c\\6e\\d7\\bb93911540d2d1e44d690a1561871e5b6af82b69e80938abef\n",
      "  Building wheel for audioread (setup.py): started\n",
      "  Building wheel for audioread (setup.py): finished with status 'done'\n",
      "  Created wheel for audioread: filename=audioread-2.1.8-cp37-none-any.whl size=23097 sha256=5fb1395a0a09d6b9d521c91cb509cae0f5022efeec2baeef8afcf0515d684e78\n",
      "  Stored in directory: C:\\Users\\All\\AppData\\Local\\pip\\Cache\\wheels\\b9\\64\\09\\0b6417df9d8ba8bc61a7d2553c5cebd714ec169644c88fc012\n",
      "  Building wheel for resampy (setup.py): started\n",
      "  Building wheel for resampy (setup.py): finished with status 'done'\n",
      "  Created wheel for resampy: filename=resampy-0.2.2-cp37-none-any.whl size=320724 sha256=2d727bc61c87160d4a83f22c194791e0dfa37bb1e3c1eae95e1443374d2dc518\n",
      "  Stored in directory: C:\\Users\\All\\AppData\\Local\\pip\\Cache\\wheels\\fa\\c1\\56\\e0e12c6f7f3d2cdea9712b35136a2d40a7817c6210ec096485\n",
      "Successfully built librosa audioread resampy\n",
      "Installing collected packages: audioread, resampy, soundfile, librosa\n",
      "Successfully installed audioread-2.1.8 librosa-0.7.2 resampy-0.2.2 soundfile-0.10.3.post1\n",
      "Note: you may need to restart the kernel to use updated packages.\n"
     ]
    }
   ],
   "source": []
  },
  {
   "cell_type": "code",
   "execution_count": null,
   "metadata": {},
   "outputs": [],
   "source": []
  }
 ],
 "metadata": {
  "kernelspec": {
   "display_name": "Python 3",
   "language": "python",
   "name": "python3"
  },
  "language_info": {
   "codemirror_mode": {
    "name": "ipython",
    "version": 3
   },
   "file_extension": ".py",
   "mimetype": "text/x-python",
   "name": "python",
   "nbconvert_exporter": "python",
   "pygments_lexer": "ipython3",
   "version": "3.7.4"
  }
 },
 "nbformat": 4,
 "nbformat_minor": 4
}
